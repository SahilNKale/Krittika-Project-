{
 "cells": [
  {
   "cell_type": "code",
   "execution_count": 1,
   "id": "d9151442-8f96-4e91-8f72-90d6c3ff75c2",
   "metadata": {},
   "outputs": [],
   "source": [
    "import numpy as np\n",
    "import matplotlib.pyplot as plt\n",
    "%matplotlib inline"
   ]
  },
  {
   "cell_type": "markdown",
   "id": "94285ee4-653f-483b-9b3e-97fdc4728d8d",
   "metadata": {},
   "source": [
    "## Q.1 "
   ]
  },
  {
   "cell_type": "markdown",
   "id": "b997c1fe-acfb-4b98-87eb-40e2ed2b6f04",
   "metadata": {},
   "source": [
    "## Function Definition"
   ]
  },
  {
   "cell_type": "code",
   "execution_count": 6,
   "id": "b8781f51-eb18-4e81-8887-2cf332267a9b",
   "metadata": {},
   "outputs": [],
   "source": [
    "def dropball(h0,t):\n",
    "    g=9.81\n",
    "    return  -g*t"
   ]
  },
  {
   "cell_type": "markdown",
   "id": "1f25fbc4-6a45-4a9a-8b2f-d48c6809aaa0",
   "metadata": {},
   "source": [
    "#### Using Euler method"
   ]
  },
  {
   "cell_type": "code",
   "execution_count": 61,
   "id": "cf76e3cc-d82b-4cfd-9855-4cec886b0776",
   "metadata": {},
   "outputs": [],
   "source": [
    "def EULER(h0,p,i):\n",
    "    X=[]\n",
    "    T=[]\n",
    "    for j in range(i):\n",
    "        T.append(j*p)\n",
    "        if(j==0):\n",
    "            X.append(h0)\n",
    "        else:\n",
    "             X.append(X[j-1] + p*dropball(h0,p*(j-1)))\n",
    "    return X,T"
   ]
  },
  {
   "cell_type": "markdown",
   "id": "6c1df528-0689-4aef-a109-675a70c100a2",
   "metadata": {},
   "source": [
    "#### Plot"
   ]
  },
  {
   "cell_type": "code",
   "execution_count": 62,
   "id": "e9c36663-d4a1-49be-845e-1510f91fa5f1",
   "metadata": {},
   "outputs": [
    {
     "data": {
      "text/plain": [
       "Text(0, 0.5, 'Height')"
      ]
     },
     "execution_count": 62,
     "metadata": {},
     "output_type": "execute_result"
    },
    {
     "data": {
      "image/png": "[encoded data removed]",
      "text/plain": [
       "<Figure size 432x288 with 1 Axes>"
      ]
     },
     "metadata": {
      "needs_background": "light"
     },
     "output_type": "display_data"
    }
   ],
   "source": [
    "X,T=EULER(10,0.1,100)\n",
    "plt.plot(T,X,'o')\n",
    "plt.ylim(-0.1,11)\n",
    "plt.xlim(0,1.6)\n",
    "plt.legend(['Trajectory'])\n",
    "plt.xlabel('Time')\n",
    "plt.ylabel('Height')"
   ]
  },
  {
   "cell_type": "markdown",
   "id": "3257ba0a-4099-418a-81b4-89913402391e",
   "metadata": {},
   "source": [
    "#### Using RX4 Method "
   ]
  },
  {
   "cell_type": "code",
   "execution_count": 9,
   "id": "98ee308f-f2b3-4292-8ccf-548df2bfd87b",
   "metadata": {},
   "outputs": [],
   "source": [
    "def RK4(h,t,p):\n",
    "    k1=p*(dropball(h,t))\n",
    "    k2=p*(dropball(h+k1/2,t+p/2))\n",
    "    k3=p*(dropball(h+k2/2,t+p/2))\n",
    "    k4=p*(dropball(h+k3,t+p))\n",
    "    k=(k1+ 2*k2 + 2*k3 + k4)/6\n",
    "    return  h + k"
   ]
  },
  {
   "cell_type": "code",
   "execution_count": 51,
   "id": "b5ccb360-d623-4f93-8eeb-508017e59203",
   "metadata": {},
   "outputs": [],
   "source": [
    "def RK42(h0,i,p):\n",
    "    X=[]\n",
    "    T=[]\n",
    "    for j in range(i):\n",
    "        T.append(j*p)\n",
    "        if(j==0):\n",
    "            X.append(h0)\n",
    "        else:\n",
    "            X.append(RK4(X[j-1],j*p,p))\n",
    "    return X,T"
   ]
  },
  {
   "cell_type": "markdown",
   "id": "ba20593d-3d85-42d6-814c-ba406c87aec1",
   "metadata": {},
   "source": [
    "#### Plot"
   ]
  },
  {
   "cell_type": "code",
   "execution_count": 52,
   "id": "7cf7402f-6283-4bc7-b7ce-98257a9d2e7d",
   "metadata": {},
   "outputs": [
    {
     "data": {
      "text/plain": [
       "[<matplotlib.lines.Line2D at 0x2506720f0a0>]"
      ]
     },
     "execution_count": 52,
     "metadata": {},
     "output_type": "execute_result"
    },
    {
     "data": {
      "image/png": "[encoded data removed]",
      "text/plain": [
       "<Figure size 432x288 with 1 Axes>"
      ]
     },
     "metadata": {
      "needs_background": "light"
     },
     "output_type": "display_data"
    }
   ],
   "source": [
    "X,T=RK42(10,150,0.01)\n",
    "plt.plot(T,X,'o')"
   ]
  },
  {
   "cell_type": "markdown",
   "id": "e72fe471-5a9b-4eeb-bd79-9ae5a33ad033",
   "metadata": {},
   "source": [
    "## Q.2"
   ]
  },
  {
   "cell_type": "markdown",
   "id": "dc353dca-44d9-402a-ae87-97e9fade2e36",
   "metadata": {},
   "source": [
    "#### Function Definition"
   ]
  },
  {
   "cell_type": "code",
   "execution_count": 12,
   "id": "cd710a1d-37b3-4d5a-96b4-d7c3b389f7ca",
   "metadata": {},
   "outputs": [],
   "source": [
    "def Projectile(t,Ang,U):\n",
    "    g=9.81\n",
    "    return np.array([U*(np.cos(Ang*(np.pi)/180)),U*(np.sin(Ang*(np.pi)/180) - g*(t))])"
   ]
  },
  {
   "cell_type": "markdown",
   "id": "fae7ff76-ae47-468f-b6ef-d2453147afd0",
   "metadata": {},
   "source": [
    "#### Using Euler's Method to solve for x and y"
   ]
  },
  {
   "cell_type": "code",
   "execution_count": 59,
   "id": "d4016b5c-bef1-40a7-abee-61e57bbb626b",
   "metadata": {},
   "outputs": [],
   "source": [
    "def EULER2(U,Ang,p,i):\n",
    "    X=[]\n",
    "    Y=[]\n",
    "    for j in range(i):\n",
    "        V=Projectile(p*(j-1),Ang,U)\n",
    "        if(j==0):\n",
    "            X.append(0)\n",
    "            Y.append(0)\n",
    "        else:\n",
    "            X.append(X[j-1] + p*(V[0]))\n",
    "            Y.append(Y[j-1] + p*(V[1]))\n",
    "    return X,Y"
   ]
  },
  {
   "cell_type": "markdown",
   "id": "a725a763-2e67-4d51-a03d-ee79ecf53ab4",
   "metadata": {},
   "source": [
    "#### Plotting "
   ]
  },
  {
   "cell_type": "code",
   "execution_count": 60,
   "id": "baeafeac-d45b-45a5-88aa-7a89f4c44389",
   "metadata": {},
   "outputs": [
    {
     "data": {
      "text/plain": [
       "Text(0, 0.5, 'Y-axis')"
      ]
     },
     "execution_count": 60,
     "metadata": {},
     "output_type": "execute_result"
    },
    {
     "data": {
      "image/png": "[encoded data removed]",
      "text/plain": [
       "<Figure size 432x288 with 1 Axes>"
      ]
     },
     "metadata": {
      "needs_background": "light"
     },
     "output_type": "display_data"
    }
   ],
   "source": [
    "P=EULER2(100,45,0.01,100)\n",
    "plt.plot(P[0],P[1],'r')\n",
    "plt.ylim(0,3)\n",
    "plt.xlim(-0.1,11)\n",
    "plt.legend(['Trajectory'])\n",
    "plt.title('Projectile')\n",
    "plt.xlabel('X-axis')\n",
    "plt.ylabel('Y-axis')"
   ]
  },
  {
   "cell_type": "markdown",
   "id": "b2b46f7f-6e41-4539-a85b-51cb556869c8",
   "metadata": {},
   "source": [
    "#### Using RK4 method to solve for x and y"
   ]
  },
  {
   "cell_type": "code",
   "execution_count": 64,
   "id": "b0fa006f-83cb-43b1-b8ea-197a40ee5a4a",
   "metadata": {},
   "outputs": [],
   "source": [
    "def RK4Q2X(U,t,p,X):\n",
    "    k1=p*(Projectile(t,45,U)[0])\n",
    "    k2=p*(Projectile(t+p/2,45,U)[0])\n",
    "    k3=p*(Projectile(t+p/2,45,U)[0])\n",
    "    k4=p*(Projectile(t+p,45,U)[0])\n",
    "    kx=(k1+ 2*k2 + 2*k3 + k4)/6\n",
    "    return X+kx"
   ]
  },
  {
   "cell_type": "code",
   "execution_count": 65,
   "id": "7e0ea695-27cf-4f14-ba48-157b020c83b4",
   "metadata": {},
   "outputs": [],
   "source": [
    "def RK4Q2Y(U,t,p,Y):\n",
    "    k1=p*(Projectile(t,45,U)[1])\n",
    "    k2=p*(Projectile(t+p/2,45,U)[1])\n",
    "    k3=p*(Projectile(t+p/2,45,U)[1])\n",
    "    k4=p*(Projectile(t+p,45,U)[1])\n",
    "    ky=(k1+ 2*k2 + 2*k3 + k4)/6\n",
    "    return Y+ky"
   ]
  },
  {
   "cell_type": "code",
   "execution_count": 66,
   "id": "94f8e238-9b73-4b14-8595-a587dbd05722",
   "metadata": {},
   "outputs": [],
   "source": [
    "def RK422(U,i,p):\n",
    "    X=[]\n",
    "    Y=[]\n",
    "    for j in range(i):\n",
    "        if(j==0):\n",
    "            X.append(0)\n",
    "            Y.append(0)\n",
    "        else:\n",
    "            X.append(RK4Q2X(U,j*p,p,X[j-1]))\n",
    "            Y.append(RK4Q2Y(U,j*p,p,Y[j-1]))\n",
    "    return X,Y"
   ]
  },
  {
   "cell_type": "markdown",
   "id": "eed81e53-94db-45cd-9a10-f3f4a0672b3a",
   "metadata": {},
   "source": [
    "#### Plot"
   ]
  },
  {
   "cell_type": "code",
   "execution_count": 67,
   "id": "bcc69f04-7e86-4cc1-9492-b65375d96d52",
   "metadata": {},
   "outputs": [
    {
     "data": {
      "text/plain": [
       "(-0.01, 1.0)"
      ]
     },
     "execution_count": 67,
     "metadata": {},
     "output_type": "execute_result"
    },
    {
     "data": {
      "image/png": "[encoded data removed]",
      "text/plain": [
       "<Figure size 432x288 with 1 Axes>"
      ]
     },
     "metadata": {
      "needs_background": "light"
     },
     "output_type": "display_data"
    }
   ],
   "source": [
    "X,Y=RK422(10,50,0.01)\n",
    "plt.plot(X,Y,'r')\n",
    "plt.ylim(0,0.2)\n",
    "plt.xlim(-0.01,1)"
   ]
  },
  {
   "cell_type": "markdown",
   "id": "1c593879-d59c-4510-a2b9-df53bf834b17",
   "metadata": {},
   "source": [
    "## Q.3"
   ]
  },
  {
   "cell_type": "markdown",
   "id": "e1423c56-8ba6-4d28-97b3-eb59d2580000",
   "metadata": {},
   "source": [
    "#### Function Definition"
   ]
  },
  {
   "cell_type": "code",
   "execution_count": 68,
   "id": "6c6186be-69f5-4595-a94b-63406f259bd5",
   "metadata": {},
   "outputs": [],
   "source": [
    "def UCM(U,t,R):\n",
    "    return np.array([U*(np.cos((U*t)/R)),U*(np.sin((U*t)/R) )])"
   ]
  },
  {
   "cell_type": "markdown",
   "id": "bfa9ff18-f172-4e82-a719-e5b264fd2079",
   "metadata": {},
   "source": [
    "#### Using Euler's Method"
   ]
  },
  {
   "cell_type": "code",
   "execution_count": 73,
   "id": "5735d309-a232-4def-9e56-90823b05c6c6",
   "metadata": {},
   "outputs": [],
   "source": [
    "def EULER3(U,R,i,p):\n",
    "    X=[]\n",
    "    Y=[]\n",
    "    for j in range(i):\n",
    "        V=UCM(U,p*(j-1),R)\n",
    "        if(j==0):\n",
    "            X.append(0)\n",
    "            Y.append(0)\n",
    "        else:\n",
    "            X.append(X[j-1] + p*(V[0]))\n",
    "            Y.append(Y[j-1] + p*(V[1]))\n",
    "    return X,Y"
   ]
  },
  {
   "cell_type": "markdown",
   "id": "ae2f3b29-98e9-4912-8c16-746c153b3ec9",
   "metadata": {},
   "source": [
    "#### Plot"
   ]
  },
  {
   "cell_type": "code",
   "execution_count": 94,
   "id": "0477985b-23a6-4eaf-b0b0-378b982fe30e",
   "metadata": {},
   "outputs": [
    {
     "data": {
      "text/plain": [
       "(-153.9222459754198, 453.92224645365144, -71.8925177169924, 535.9519739081946)"
      ]
     },
     "execution_count": 94,
     "metadata": {},
     "output_type": "execute_result"
    },
    {
     "data": {
      "image/png": "[encoded data removed]",
      "text/plain": [
       "<Figure size 432x288 with 1 Axes>"
      ]
     },
     "metadata": {
      "needs_background": "light"
     },
     "output_type": "display_data"
    }
   ],
   "source": [
    "P=EULER3(30000,15.002,31536,0.01)\n",
    "plt.plot(P[0],P[1],'o')\n",
    "plt.legend(['Trajectory of Earth around Sun'],loc='upper right')\n",
    "plt.title('UCM')\n",
    "plt.xlabel('X-axis')\n",
    "plt.ylabel('Y-axis')\n",
    "plt.axis('equal')"
   ]
  },
  {
   "cell_type": "markdown",
   "id": "76345be7-91fc-4e8b-8786-ebcd7476ac79",
   "metadata": {},
   "source": [
    "#### Using RK4 method"
   ]
  },
  {
   "cell_type": "code",
   "execution_count": 78,
   "id": "edf1aa75-8d88-4009-9e18-933ccdcdbd4b",
   "metadata": {},
   "outputs": [],
   "source": [
    "def RK43X(U,t,p,X,R):\n",
    "    k1=p*(UCM(U,t+(p/2),R)[0])\n",
    "    k2=p*(UCM(U,t+(p/2),R)[0])\n",
    "    k3=p*(UCM(U,t +(p/2),R)[0])\n",
    "    k4=p*(UCM(U,t + p,R)[0])\n",
    "    k=(k1+ 2*k2 + 2*k3 + k4)/6\n",
    "    return X + k"
   ]
  },
  {
   "cell_type": "code",
   "execution_count": 79,
   "id": "60d890dd-9b95-4e4e-84a1-fb3b99168c6b",
   "metadata": {},
   "outputs": [],
   "source": [
    "def RK43Y(U,t,p,Y,R):\n",
    "    k1=p*(UCM(U,t+(p/2),R)[1])\n",
    "    k2=p*(UCM(U,t+(p/2),R)[1])\n",
    "    k3=p*(UCM(U,t +(p/2),R)[1])\n",
    "    k4=p*(UCM(U,t + p,R)[1])\n",
    "    k=(k1+ 2*k2 + 2*k3 + k4)/6\n",
    "    return Y + k"
   ]
  },
  {
   "cell_type": "code",
   "execution_count": 83,
   "id": "cbd8945e-4d71-433b-b313-dc26c2dcbb43",
   "metadata": {},
   "outputs": [],
   "source": [
    "def RK423(U,i,p,R):\n",
    "    X=[]\n",
    "    Y=[]\n",
    "    for j in range(i):\n",
    "        if(j==0):\n",
    "            X.append(0)\n",
    "            Y.append(0)\n",
    "        else:\n",
    "            X.append(RK43X(U,j*p,p,X[j-1],R))\n",
    "            Y.append(RK43Y(U,j*p,p,Y[j-1],R))\n",
    "    return X,Y"
   ]
  },
  {
   "cell_type": "markdown",
   "id": "b5f96e93-38b5-45c5-b3d8-9130f5c6a75e",
   "metadata": {},
   "source": [
    "#### Plot"
   ]
  },
  {
   "cell_type": "code",
   "execution_count": 96,
   "id": "2244567f-2ed5-4838-9c02-56823de7646e",
   "metadata": {},
   "outputs": [
    {
     "data": {
      "text/plain": [
       "Text(0, 0.5, 'Y-axis')"
      ]
     },
     "execution_count": 96,
     "metadata": {},
     "output_type": "execute_result"
    },
    {
     "data": {
      "image/png": "[encoded data removed]",
      "text/plain": [
       "<Figure size 432x288 with 1 Axes>"
      ]
     },
     "metadata": {
      "needs_background": "light"
     },
     "output_type": "display_data"
    }
   ],
   "source": [
    "x,y=RK423(30000,31536,0.01,15.002)\n",
    "plt.plot(x,y,'o')\n",
    "plt.axis('equal')\n",
    "plt.title('UCM of Earth around Sun')\n",
    "plt.legend(['Trajectory'])\n",
    "plt.xlabel('X-axis')\n",
    "plt.ylabel('Y-axis')"
   ]
  },
  {
   "cell_type": "code",
   "execution_count": null,
   "id": "82c93c41-7731-4809-96a1-254dda88fdd5",
   "metadata": {},
   "outputs": [],
   "source": []
  }
 ],
 "metadata": {
  "kernelspec": {
   "display_name": "Python 3 (ipykernel)",
   "language": "python",
   "name": "python3"
  },
  "language_info": {
   "codemirror_mode": {
    "name": "ipython",
    "version": 3
   },
   "file_extension": ".py",
   "mimetype": "text/x-python",
   "name": "python",
   "nbconvert_exporter": "python",
   "pygments_lexer": "ipython3",
   "version": "3.9.7"
  }
 },
 "nbformat": 4,
 "nbformat_minor": 5
}
